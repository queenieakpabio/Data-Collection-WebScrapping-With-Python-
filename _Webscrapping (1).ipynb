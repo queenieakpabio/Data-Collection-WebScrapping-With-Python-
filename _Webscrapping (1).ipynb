{
 "cells": [
  {
   "cell_type": "code",
   "execution_count": 1,
   "metadata": {},
   "outputs": [
    {
     "data": {
      "text/html": [
       "        <script type=\"text/javascript\">\n",
       "        window.PlotlyConfig = {MathJaxConfig: 'local'};\n",
       "        if (window.MathJax && window.MathJax.Hub && window.MathJax.Hub.Config) {window.MathJax.Hub.Config({SVG: {font: \"STIX-Web\"}});}\n",
       "        if (typeof require !== 'undefined') {\n",
       "        require.undef(\"plotly\");\n",
       "        requirejs.config({\n",
       "            paths: {\n",
       "                'plotly': ['https://cdn.plot.ly/plotly-2.17.1.min']\n",
       "            }\n",
       "        });\n",
       "        require(['plotly'], function(Plotly) {\n",
       "            window._Plotly = Plotly;\n",
       "        });\n",
       "        }\n",
       "        </script>\n",
       "        "
      ]
     },
     "metadata": {},
     "output_type": "display_data"
    }
   ],
   "source": [
    "import requests as r\n",
    "from bs4 import BeautifulSoup\n",
    "import pandas as pd\n",
    "import plotly.express as px\n",
    "import plotly.offline as po\n",
    "po.init_notebook_mode(connected=True)"
   ]
  },
  {
   "cell_type": "code",
   "execution_count": 2,
   "metadata": {},
   "outputs": [],
   "source": [
    "# # URL link\n",
    "# url_link = ['https://www.goodfirms.co/big-data-analytics/data-analytics', 'https://www.goodfirms.co/big-data-analytics/data-analytics?page=2', \n",
    "#        'https://www.goodfirms.co/big-data-analytics/data-analytics?page=3']\n",
    "\n",
    "# # access website\n",
    "# access = [r.get(url) for url in url_link]\n",
    "\n",
    "# \"\"\" OR\n",
    "\n",
    "# access = []\n",
    "# for url in url_link:\n",
    "#     access.append(r.get(url))\n",
    "    \n",
    "# \"\"\"\n",
    "\n"
   ]
  },
  {
   "cell_type": "code",
   "execution_count": 3,
   "metadata": {},
   "outputs": [
    {
     "ename": "NameError",
     "evalue": "name 'access' is not defined",
     "output_type": "error",
     "traceback": [
      "\u001b[1;31m---------------------------------------------------------------------------\u001b[0m",
      "\u001b[1;31mNameError\u001b[0m                                 Traceback (most recent call last)",
      "\u001b[1;32m<ipython-input-3-1aaa06b4d2bc>\u001b[0m in \u001b[0;36m<module>\u001b[1;34m\u001b[0m\n\u001b[1;32m----> 1\u001b[1;33m \u001b[1;32mfor\u001b[0m \u001b[0mpage\u001b[0m \u001b[1;32min\u001b[0m \u001b[0maccess\u001b[0m\u001b[1;33m:\u001b[0m\u001b[1;33m\u001b[0m\u001b[1;33m\u001b[0m\u001b[0m\n\u001b[0m\u001b[0;32m      2\u001b[0m     \u001b[0mindex\u001b[0m \u001b[1;33m=\u001b[0m \u001b[0maccess\u001b[0m\u001b[1;33m.\u001b[0m\u001b[0mindex\u001b[0m\u001b[1;33m(\u001b[0m\u001b[0mpage\u001b[0m\u001b[1;33m)\u001b[0m\u001b[1;33m+\u001b[0m\u001b[1;36m1\u001b[0m\u001b[1;33m\u001b[0m\u001b[1;33m\u001b[0m\u001b[0m\n\u001b[0;32m      3\u001b[0m     \u001b[1;32mwith\u001b[0m \u001b[0mopen\u001b[0m\u001b[1;33m(\u001b[0m\u001b[1;34mf'page{index}.html'\u001b[0m\u001b[1;33m,\u001b[0m \u001b[0mmode\u001b[0m\u001b[1;33m=\u001b[0m\u001b[1;34m'wb'\u001b[0m\u001b[1;33m)\u001b[0m \u001b[1;32mas\u001b[0m \u001b[0mfile\u001b[0m\u001b[1;33m:\u001b[0m\u001b[1;33m\u001b[0m\u001b[1;33m\u001b[0m\u001b[0m\n\u001b[0;32m      4\u001b[0m         \u001b[0mfile\u001b[0m\u001b[1;33m.\u001b[0m\u001b[0mwrite\u001b[0m\u001b[1;33m(\u001b[0m\u001b[0mpage\u001b[0m\u001b[1;33m.\u001b[0m\u001b[0mcontent\u001b[0m\u001b[1;33m)\u001b[0m\u001b[1;33m\u001b[0m\u001b[1;33m\u001b[0m\u001b[0m\n",
      "\u001b[1;31mNameError\u001b[0m: name 'access' is not defined"
     ]
    }
   ],
   "source": [
    "for page in access:\n",
    "    index = access.index(page)+1\n",
    "    with open(f'page{index}.html', mode='wb') as file:\n",
    "        file.write(page.content)"
   ]
  },
  {
   "cell_type": "code",
   "execution_count": null,
   "metadata": {},
   "outputs": [],
   "source": [
    "with open(\"page1.html\", encoding='utf-8', mode='r') as file:\n",
    "    bs = BeautifulSoup(file, 'lxml')"
   ]
  },
  {
   "cell_type": "code",
   "execution_count": null,
   "metadata": {},
   "outputs": [],
   "source": [
    "firm_names = bs.find_all('span', {'itemprop': \"name\"})\n",
    "firm_motors = bs.find_all('p', {'class': \"profile-tagline\"})\n",
    "firm_reviews = bs.find_all('span', {'class': \"listinv_review_label\"})\n",
    "progress_value = bs.find_all('div', {'class': \"circle-progress-value\"})\n",
    "firm_prices = bs.find_all('div', {'class': \"firm-pricing\"})\n",
    "firm_emps = bs.find_all('div', {'class': \"firm-employees\"})\n",
    "firm_years = bs.find_all('div', {'class': \"firm-founded\"})\n",
    "firm_locations = bs.find_all('div', {'class': \"firm-location\"})"
   ]
  },
  {
   "cell_type": "code",
   "execution_count": null,
   "metadata": {},
   "outputs": [],
   "source": [
    "def extract_detail(tag_lst):\n",
    "    lst = [tag.text for tag in tag_lst]\n",
    "    return pd.Series(lst)\n",
    "\n",
    "def extract_progress_values(tag_lst):    \n",
    "    service_pct = [percent[1].text for percent in enumerate(tag_lst) if percent[0]%2 ==0]\n",
    "    platform_pct = [percent[1].text for percent in enumerate(tag_lst) if percent[0]%2 ==1]       \n",
    "    return pd.Series(service_pct), pd.Series(platform_pct) "
   ]
  },
  {
   "cell_type": "code",
   "execution_count": null,
   "metadata": {},
   "outputs": [],
   "source": [
    "names = extract_detail(firm_names[3:])\n",
    "motors = extract_detail(firm_motors)\n",
    "reviews = extract_detail(firm_reviews)\n",
    "ser, pct = extract_progress_values(progress_value)\n",
    "prices = extract_detail(firm_prices)\n",
    "emps = extract_detail(firm_emps)\n",
    "years = extract_detail(firm_years)\n",
    "locations = extract_detail(firm_locations)"
   ]
  },
  {
   "cell_type": "code",
   "execution_count": null,
   "metadata": {},
   "outputs": [],
   "source": [
    "df1 = pd.DataFrame()"
   ]
  },
  {
   "cell_type": "code",
   "execution_count": null,
   "metadata": {},
   "outputs": [],
   "source": [
    "df1['firm_name'] = names\n",
    "df1['firm_motor'] = motors\n",
    "df1['firm_review'] = reviews\n",
    "df1['service_pct'] = ser\n",
    "df1['platform_pct'] = pct\n",
    "df1['firm_price'] = prices\n",
    "df1['firm_employee'] = emps\n",
    "df1['year_founded'] = years\n",
    "df1['firm_location'] = locations"
   ]
  },
  {
   "cell_type": "code",
   "execution_count": null,
   "metadata": {},
   "outputs": [],
   "source": [
    "# Open page 2\n",
    "with open(\"page2.html\", encoding='utf-8', mode='r') as file:\n",
    "    bs2 = BeautifulSoup(file, 'lxml')\n",
    "    \n",
    "# Locate details\n",
    "firm_names = bs2.find_all('span', {'itemprop': \"name\"})\n",
    "firm_motors = bs2.find_all('p', {'class': \"profile-tagline\"})\n",
    "firm_reviews = bs2.find_all('span', {'class': \"listinv_review_label\"})\n",
    "progress_value = bs2.find_all('div', {'class': \"circle-progress-value\"})\n",
    "firm_prices = bs2.find_all('div', {'class': \"firm-pricing\"})\n",
    "firm_emps = bs2.find_all('div', {'class': \"firm-employees\"})\n",
    "firm_years = bs2.find_all('div', {'class': \"firm-founded\"})\n",
    "firm_locations = bs2.find_all('div', {'class': \"firm-location\"})\n",
    "\n",
    "# Extract details\n",
    "names2 = extract_detail(firm_names[3:])\n",
    "motors = extract_detail(firm_motors)\n",
    "reviews = extract_detail(firm_reviews)\n",
    "ser, pct = extract_progress_values(progress_value)\n",
    "prices = extract_detail(firm_prices)\n",
    "emps = extract_detail(firm_emps)\n",
    "years = extract_detail(firm_years)\n",
    "locations = extract_detail(firm_locations)\n",
    "\n",
    "# Put details in a dataframe\n",
    "df2 = pd.DataFrame()\n",
    "df2['firm_name'] = names2\n",
    "df2['firm_motor'] = motors\n",
    "df2['firm_review'] = reviews\n",
    "df2['service_pct'] = ser\n",
    "df2['platform_pct'] = pct\n",
    "df2['firm_price'] = prices\n",
    "df2['firm_employee'] = emps\n",
    "df2['year_founded'] = years\n",
    "df2['firm_location'] = locations\n",
    "\n",
    "# Preview\n",
    "df2.head()"
   ]
  },
  {
   "cell_type": "code",
   "execution_count": null,
   "metadata": {},
   "outputs": [],
   "source": [
    "# Open page 3 \n",
    "with open(\"page3.html\", encoding='utf-8', mode='r') as file:\n",
    "    bs3 = BeautifulSoup(file, 'lxml')\n",
    "    \n",
    "# Locate details\n",
    "firm_names = bs3.find_all('span', {'itemprop': \"name\"})\n",
    "firm_motors = bs3.find_all('p', {'class': \"profile-tagline\"})\n",
    "firm_reviews = bs3.find_all('span', {'class': \"listinv_review_label\"})\n",
    "progress_value = bs3.find_all('div', {'class': \"circle-progress-value\"})\n",
    "firm_prices = bs3.find_all('div', {'class': \"firm-pricing\"})\n",
    "firm_emps = bs3.find_all('div', {'class': \"firm-employees\"})\n",
    "firm_years = bs3.find_all('div', {'class': \"firm-founded\"})\n",
    "firm_locations = bs3.find_all('div', {'class': \"firm-location\"})\n",
    "\n",
    "# Extract details\n",
    "names = extract_detail(firm_names[3:])\n",
    "motors = extract_detail(firm_motors)\n",
    "reviews = extract_detail(firm_reviews)\n",
    "ser, pct = extract_progress_values(progress_value)\n",
    "prices = extract_detail(firm_prices)\n",
    "emps = extract_detail(firm_emps)\n",
    "years = extract_detail(firm_years)\n",
    "locations = extract_detail(firm_locations)\n",
    "\n",
    "# Put details in a dataframe\n",
    "df3 = pd.DataFrame()\n",
    "df3['firm_name'] = names\n",
    "df3['firm_motor'] = motors\n",
    "df3['firm_review'] = reviews\n",
    "df3['service_pct'] = ser\n",
    "df3['platform_pct'] = pct\n",
    "df3['firm_price'] = prices\n",
    "df3['firm_employee'] = emps\n",
    "df3['year_founded'] = years\n",
    "df3['firm_location'] = locations\n",
    "\n",
    "# Preview\n",
    "df3.head()\n"
   ]
  },
  {
   "cell_type": "code",
   "execution_count": null,
   "metadata": {},
   "outputs": [],
   "source": [
    "all_df = pd.concat([df1, df2, df3], ignore_index=True)\n",
    "all_df"
   ]
  },
  {
   "cell_type": "code",
   "execution_count": null,
   "metadata": {},
   "outputs": [],
   "source": [
    "# extracting star rating \n",
    "values = all_df['firm_review'].apply(lambda x: x.split()[0])\n",
    "all_df.insert(3, 'star_rating', values)\n",
    "\n",
    "# extracting number of reviews\n",
    "val = all_df['firm_review'].apply(lambda x: x.split()[1].strip('('))\n",
    "all_df.insert(4, 'firm_rev', val)\n",
    "\n",
    "# drop firm reviews column\n",
    "all_df.drop(columns='firm_review', inplace=True)\n",
    "\n",
    "# remove \"%\" from firm service and platform percent\n",
    "all_df['service_pct'] = all_df['service_pct'].apply(lambda x: x.strip('%'))\n",
    "all_df['platform_pct'] = all_df['platform_pct'].apply(lambda x: x.strip('%'))\n",
    "\n",
    "# rename columns\n",
    "all_df.rename(columns={'service_pct': 'service_pct(%)', 'platform_pct':'platform_pct(%)'}, inplace=True)\n",
    "\n",
    "# remove \"\\n\" from firm price and location\n",
    "all_df['firm_price'] = all_df['firm_price'].apply(lambda x: x.strip('\\n'))\n",
    "all_df['firm_location'] = all_df['firm_location'].apply(lambda x: x.strip('\\n'))"
   ]
  },
  {
   "cell_type": "code",
   "execution_count": null,
   "metadata": {},
   "outputs": [],
   "source": [
    "all_df.head()"
   ]
  },
  {
   "cell_type": "code",
   "execution_count": null,
   "metadata": {},
   "outputs": [],
   "source": [
    "all_df.to_csv('clean_extraction.csv', index=False)"
   ]
  },
  {
   "cell_type": "code",
   "execution_count": null,
   "metadata": {},
   "outputs": [],
   "source": [
    "all_df.dtypes"
   ]
  },
  {
   "cell_type": "code",
   "execution_count": null,
   "metadata": {},
   "outputs": [],
   "source": [
    "all_df['star_rating'] = all_df['star_rating'].astype('float')\n",
    "all_df['firm_rev'] = all_df['firm_rev'].astype('int')\n",
    "all_df['service_pct(%)'] = all_df['service_pct(%)'].astype('int')\n",
    "all_df['platform_pct(%)'] = all_df['platform_pct(%)'].astype('int')"
   ]
  },
  {
   "cell_type": "code",
   "execution_count": null,
   "metadata": {},
   "outputs": [],
   "source": [
    "all_df.dtypes"
   ]
  },
  {
   "cell_type": "code",
   "execution_count": null,
   "metadata": {},
   "outputs": [],
   "source": [
    "px.histogram(all_df, x='firm_rev')"
   ]
  },
  {
   "cell_type": "code",
   "execution_count": null,
   "metadata": {},
   "outputs": [],
   "source": []
  },
  {
   "cell_type": "code",
   "execution_count": null,
   "metadata": {},
   "outputs": [],
   "source": [
    "my_histogram = px.histogram(all_df,x='star_rating', width=500, title='Star Rating Distribution') "
   ]
  },
  {
   "cell_type": "code",
   "execution_count": null,
   "metadata": {},
   "outputs": [],
   "source": [
    "my_histogram.show()"
   ]
  },
  {
   "cell_type": "code",
   "execution_count": null,
   "metadata": {},
   "outputs": [],
   "source": [
    "top5_str_rev = all_df.sort_values(by=['star_rating', 'firm_rev'], ascending=False)[:5]\n",
    "px.bar(top5_str_rev, 'firm_name', ['star_rating', 'firm_rev'], width=700, title='Top 5 Firms based on star rating and reviews')"
   ]
  },
  {
   "cell_type": "code",
   "execution_count": null,
   "metadata": {},
   "outputs": [],
   "source": [
    "top5_str_sev = all_df.sort_values(['star_rating', 'service_pct(%)'], ascending=False)[:5]\n",
    "px.bar(top5_str_sev, 'firm_name', 'service_pct(%)', width=700, \n",
    "       title='Top 5 Firms based on star rating and service percentage')"
   ]
  },
  {
   "cell_type": "code",
   "execution_count": null,
   "metadata": {},
   "outputs": [],
   "source": [
    "split = all_df['firm_location'].apply(lambda x: x.split(', '))\n",
    "lst = []\n",
    "for x in split:\n",
    "    lst += x\n",
    "    \n",
    "new_lst = []\n",
    "for x in lst:\n",
    "    new_lst.append(x.strip())\n",
    "locations = pd.Series(new_lst).value_counts(ascending=True)\n",
    "locations[:5]"
   ]
  },
  {
   "cell_type": "code",
   "execution_count": null,
   "metadata": {},
   "outputs": [],
   "source": [
    "px.bar(y=locations.index, x=locations.values, width=900, height=800, \n",
    "       title= 'Country Frequency', labels={'y':'', 'x':'frequency'})"
   ]
  },
  {
   "cell_type": "code",
   "execution_count": null,
   "metadata": {},
   "outputs": [],
   "source": []
  },
  {
   "cell_type": "code",
   "execution_count": null,
   "metadata": {},
   "outputs": [],
   "source": []
  }
 ],
 "metadata": {
  "kernelspec": {
   "display_name": "Python 3",
   "language": "python",
   "name": "python3"
  },
  "language_info": {
   "codemirror_mode": {
    "name": "ipython",
    "version": 3
   },
   "file_extension": ".py",
   "mimetype": "text/x-python",
   "name": "python",
   "nbconvert_exporter": "python",
   "pygments_lexer": "ipython3",
   "version": "3.8.5"
  }
 },
 "nbformat": 4,
 "nbformat_minor": 4
}
